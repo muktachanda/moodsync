{
 "cells": [
  {
   "cell_type": "markdown",
   "id": "270d94eb",
   "metadata": {
    "papermill": {
     "duration": 0.012727,
     "end_time": "2023-04-25T10:48:23.246751",
     "exception": false,
     "start_time": "2023-04-25T10:48:23.234024",
     "status": "completed"
    },
    "tags": []
   },
   "source": [
    "# Suicide and Depression Detection\n",
    "\n",
    "The dataset is a collection of posts from \"SuicideWatch\" and \"depression\" subreddits of the Reddit platform. The posts are collected using Pushshift API. All posts that were made to \"SuicideWatch\" from Dec 16, 2008(creation) till Jan 2, 2021, were collected while \"depression\" posts were collected from Jan 1, 2009, to Jan 2, 2021.\n",
    "\n",
    "It's worth noting that working with datasets related to mental health can be sensitive and challenging, as it involves handling personal and potentially sensitive information. It's important to approach this data with care and respect, and to ensure that any research or analysis is conducted in an ethical and responsible manner."
   ]
  },
  {
   "cell_type": "code",
   "execution_count": 2,
   "id": "219c0fe5",
   "metadata": {},
   "outputs": [],
   "source": [
    "# for pip installs\n",
    "# pip install seaborn\n",
    "# pip install --upgrade pip"
   ]
  },
  {
   "cell_type": "code",
   "execution_count": 3,
   "id": "5cb1fe57",
   "metadata": {
    "_cell_guid": "b1076dfc-b9ad-4769-8c92-a6c4dae69d19",
    "_uuid": "8f2839f25d086af736a60e9eeb907d3b93b6e0e5",
    "execution": {
     "iopub.execute_input": "2023-04-25T10:48:23.272105Z",
     "iopub.status.busy": "2023-04-25T10:48:23.271523Z",
     "iopub.status.idle": "2023-04-25T10:48:25.103527Z",
     "shell.execute_reply": "2023-04-25T10:48:25.102176Z"
    },
    "papermill": {
     "duration": 1.847199,
     "end_time": "2023-04-25T10:48:25.105855",
     "exception": false,
     "start_time": "2023-04-25T10:48:23.258656",
     "status": "completed"
    },
    "tags": []
   },
   "outputs": [],
   "source": [
    "# This Python 3 environment comes with many helpful analytics libraries installed\n",
    "# It is defined by the kaggle/python Docker image: https://github.com/kaggle/docker-python\n",
    "# For example, here's several helpful packages to load\n",
    "import warnings\n",
    "warnings.filterwarnings('ignore')\n",
    "\n",
    "import numpy as np # linear algebra\n",
    "import pandas as pd # data processing, CSV file I/O (e.g. pd.read_csv)\n",
    "\n",
    "# Visualisation libraries\n",
    "import matplotlib.pyplot as plt\n",
    "import seaborn as sns\n",
    "\n",
    "# Machine Learning Libraries\n",
    "from sklearn.model_selection import train_test_split,GridSearchCV,RandomizedSearchCV\n",
    "from sklearn.feature_extraction.text import TfidfVectorizer\n",
    "from sklearn.feature_selection import SelectKBest,chi2,f_classif\n",
    "from sklearn.ensemble import RandomForestClassifier,VotingClassifier,AdaBoostClassifier,GradientBoostingClassifier,BaggingClassifier\n",
    "from sklearn.metrics import classification_report , confusion_matrix\n",
    "from sklearn.tree import DecisionTreeClassifier\n",
    "# from xgboost import XGBClassifier\n",
    "from sklearn.neighbors import KNeighborsClassifier\n",
    "from sklearn.naive_bayes import GaussianNB, MultinomialNB, BernoulliNB\n",
    "\n",
    "import pickle\n",
    "import string\n",
    "\n",
    "# Text Processing libraries\n",
    "import nltk\n",
    "from nltk.stem import PorterStemmer\n",
    "\n",
    "import os\n",
    "for dirname, _, filenames in os.walk('/kaggle/input'):\n",
    "    for filename in filenames:\n",
    "        print(os.path.join(dirname, filename))"
   ]
  },
  {
   "cell_type": "code",
   "execution_count": 4,
   "id": "85f1cc75",
   "metadata": {
    "execution": {
     "iopub.execute_input": "2023-04-25T10:48:25.132232Z",
     "iopub.status.busy": "2023-04-25T10:48:25.131219Z",
     "iopub.status.idle": "2023-04-25T10:48:29.175323Z",
     "shell.execute_reply": "2023-04-25T10:48:29.174375Z"
    },
    "papermill": {
     "duration": 4.058668,
     "end_time": "2023-04-25T10:48:29.177508",
     "exception": false,
     "start_time": "2023-04-25T10:48:25.118840",
     "status": "completed"
    },
    "tags": []
   },
   "outputs": [
    {
     "data": {
      "text/html": [
       "<div>\n",
       "<style scoped>\n",
       "    .dataframe tbody tr th:only-of-type {\n",
       "        vertical-align: middle;\n",
       "    }\n",
       "\n",
       "    .dataframe tbody tr th {\n",
       "        vertical-align: top;\n",
       "    }\n",
       "\n",
       "    .dataframe thead th {\n",
       "        text-align: right;\n",
       "    }\n",
       "</style>\n",
       "<table border=\"1\" class=\"dataframe\">\n",
       "  <thead>\n",
       "    <tr style=\"text-align: right;\">\n",
       "      <th></th>\n",
       "      <th>Unnamed: 0</th>\n",
       "      <th>text</th>\n",
       "      <th>class</th>\n",
       "    </tr>\n",
       "  </thead>\n",
       "  <tbody>\n",
       "    <tr>\n",
       "      <th>0</th>\n",
       "      <td>2</td>\n",
       "      <td>Ex Wife Threatening SuicideRecently I left my ...</td>\n",
       "      <td>suicide</td>\n",
       "    </tr>\n",
       "    <tr>\n",
       "      <th>1</th>\n",
       "      <td>3</td>\n",
       "      <td>Am I weird I don't get affected by compliments...</td>\n",
       "      <td>non-suicide</td>\n",
       "    </tr>\n",
       "    <tr>\n",
       "      <th>2</th>\n",
       "      <td>4</td>\n",
       "      <td>Finally 2020 is almost over... So I can never ...</td>\n",
       "      <td>non-suicide</td>\n",
       "    </tr>\n",
       "    <tr>\n",
       "      <th>3</th>\n",
       "      <td>8</td>\n",
       "      <td>i need helpjust help me im crying so hard</td>\n",
       "      <td>suicide</td>\n",
       "    </tr>\n",
       "    <tr>\n",
       "      <th>4</th>\n",
       "      <td>9</td>\n",
       "      <td>I’m so lostHello, my name is Adam (16) and I’v...</td>\n",
       "      <td>suicide</td>\n",
       "    </tr>\n",
       "  </tbody>\n",
       "</table>\n",
       "</div>"
      ],
      "text/plain": [
       "   Unnamed: 0                                               text        class\n",
       "0           2  Ex Wife Threatening SuicideRecently I left my ...      suicide\n",
       "1           3  Am I weird I don't get affected by compliments...  non-suicide\n",
       "2           4  Finally 2020 is almost over... So I can never ...  non-suicide\n",
       "3           8          i need helpjust help me im crying so hard      suicide\n",
       "4           9  I’m so lostHello, my name is Adam (16) and I’v...      suicide"
      ]
     },
     "execution_count": 4,
     "metadata": {},
     "output_type": "execute_result"
    }
   ],
   "source": [
    "data = pd.read_csv('Suicide_Detection.csv')\n",
    "data.head()"
   ]
  },
  {
   "cell_type": "markdown",
   "id": "8c852950",
   "metadata": {
    "papermill": {
     "duration": 0.012026,
     "end_time": "2023-04-25T10:48:29.201679",
     "exception": false,
     "start_time": "2023-04-25T10:48:29.189653",
     "status": "completed"
    },
    "tags": []
   },
   "source": [
    "# Data Preprocessing"
   ]
  },
  {
   "cell_type": "code",
   "execution_count": 5,
   "id": "f5cc7ebc",
   "metadata": {
    "execution": {
     "iopub.execute_input": "2023-04-25T10:48:29.227548Z",
     "iopub.status.busy": "2023-04-25T10:48:29.227205Z",
     "iopub.status.idle": "2023-04-25T10:48:29.233712Z",
     "shell.execute_reply": "2023-04-25T10:48:29.232621Z"
    },
    "papermill": {
     "duration": 0.023651,
     "end_time": "2023-04-25T10:48:29.236821",
     "exception": false,
     "start_time": "2023-04-25T10:48:29.213170",
     "status": "completed"
    },
    "tags": []
   },
   "outputs": [
    {
     "data": {
      "text/plain": [
       "(232074, 3)"
      ]
     },
     "execution_count": 5,
     "metadata": {},
     "output_type": "execute_result"
    }
   ],
   "source": [
    "data.shape"
   ]
  },
  {
   "cell_type": "markdown",
   "id": "d82135f6",
   "metadata": {
    "papermill": {
     "duration": 0.011339,
     "end_time": "2023-04-25T10:48:29.259744",
     "exception": false,
     "start_time": "2023-04-25T10:48:29.248405",
     "status": "completed"
    },
    "tags": []
   },
   "source": [
    "- The given dataset contain more than **2 lakh** rows.\n",
    "- It takes take significant time and resources, as it involves optimizing the parameters of the model and processing the data iteratively.\n",
    "- So I will take 10000 data points which will help to reduce complexity."
   ]
  },
  {
   "cell_type": "code",
   "execution_count": 6,
   "id": "c9c3d268",
   "metadata": {
    "execution": {
     "iopub.execute_input": "2023-04-25T10:48:29.284184Z",
     "iopub.status.busy": "2023-04-25T10:48:29.283907Z",
     "iopub.status.idle": "2023-04-25T10:48:29.299753Z",
     "shell.execute_reply": "2023-04-25T10:48:29.298876Z"
    },
    "papermill": {
     "duration": 0.030571,
     "end_time": "2023-04-25T10:48:29.301825",
     "exception": false,
     "start_time": "2023-04-25T10:48:29.271254",
     "status": "completed"
    },
    "tags": []
   },
   "outputs": [],
   "source": [
    "df = data.sample(n=10000, random_state=42)"
   ]
  },
  {
   "cell_type": "code",
   "execution_count": 7,
   "id": "0884251c",
   "metadata": {
    "execution": {
     "iopub.execute_input": "2023-04-25T10:48:29.326707Z",
     "iopub.status.busy": "2023-04-25T10:48:29.326142Z",
     "iopub.status.idle": "2023-04-25T10:48:29.350744Z",
     "shell.execute_reply": "2023-04-25T10:48:29.349116Z"
    },
    "papermill": {
     "duration": 0.039404,
     "end_time": "2023-04-25T10:48:29.353166",
     "exception": false,
     "start_time": "2023-04-25T10:48:29.313762",
     "status": "completed"
    },
    "tags": []
   },
   "outputs": [
    {
     "name": "stdout",
     "output_type": "stream",
     "text": [
      "<class 'pandas.core.frame.DataFrame'>\n",
      "Int64Index: 10000 entries, 74414 to 224640\n",
      "Data columns (total 3 columns):\n",
      " #   Column      Non-Null Count  Dtype \n",
      "---  ------      --------------  ----- \n",
      " 0   Unnamed: 0  10000 non-null  int64 \n",
      " 1   text        10000 non-null  object\n",
      " 2   class       10000 non-null  object\n",
      "dtypes: int64(1), object(2)\n",
      "memory usage: 312.5+ KB\n"
     ]
    }
   ],
   "source": [
    "df.info()"
   ]
  },
  {
   "cell_type": "code",
   "execution_count": 8,
   "id": "bb4ea645",
   "metadata": {
    "execution": {
     "iopub.execute_input": "2023-04-25T10:48:29.378198Z",
     "iopub.status.busy": "2023-04-25T10:48:29.377927Z",
     "iopub.status.idle": "2023-04-25T10:48:29.386776Z",
     "shell.execute_reply": "2023-04-25T10:48:29.385705Z"
    },
    "papermill": {
     "duration": 0.02375,
     "end_time": "2023-04-25T10:48:29.389055",
     "exception": false,
     "start_time": "2023-04-25T10:48:29.365305",
     "status": "completed"
    },
    "tags": []
   },
   "outputs": [
    {
     "data": {
      "text/plain": [
       "True"
      ]
     },
     "execution_count": 8,
     "metadata": {},
     "output_type": "execute_result"
    }
   ],
   "source": [
    "df['Unnamed: 0'].is_unique"
   ]
  },
  {
   "cell_type": "code",
   "execution_count": 9,
   "id": "cef53bca",
   "metadata": {
    "execution": {
     "iopub.execute_input": "2023-04-25T10:48:29.413507Z",
     "iopub.status.busy": "2023-04-25T10:48:29.413217Z",
     "iopub.status.idle": "2023-04-25T10:48:29.418721Z",
     "shell.execute_reply": "2023-04-25T10:48:29.417731Z"
    },
    "papermill": {
     "duration": 0.020306,
     "end_time": "2023-04-25T10:48:29.421030",
     "exception": false,
     "start_time": "2023-04-25T10:48:29.400724",
     "status": "completed"
    },
    "tags": []
   },
   "outputs": [],
   "source": [
    "df.drop(columns = 'Unnamed: 0',inplace=True)"
   ]
  },
  {
   "cell_type": "code",
   "execution_count": 10,
   "id": "d64474a1",
   "metadata": {
    "execution": {
     "iopub.execute_input": "2023-04-25T10:48:29.445559Z",
     "iopub.status.busy": "2023-04-25T10:48:29.445263Z",
     "iopub.status.idle": "2023-04-25T10:48:29.454453Z",
     "shell.execute_reply": "2023-04-25T10:48:29.453381Z"
    },
    "papermill": {
     "duration": 0.024897,
     "end_time": "2023-04-25T10:48:29.457670",
     "exception": false,
     "start_time": "2023-04-25T10:48:29.432773",
     "status": "completed"
    },
    "tags": []
   },
   "outputs": [
    {
     "data": {
      "text/html": [
       "<div>\n",
       "<style scoped>\n",
       "    .dataframe tbody tr th:only-of-type {\n",
       "        vertical-align: middle;\n",
       "    }\n",
       "\n",
       "    .dataframe tbody tr th {\n",
       "        vertical-align: top;\n",
       "    }\n",
       "\n",
       "    .dataframe thead th {\n",
       "        text-align: right;\n",
       "    }\n",
       "</style>\n",
       "<table border=\"1\" class=\"dataframe\">\n",
       "  <thead>\n",
       "    <tr style=\"text-align: right;\">\n",
       "      <th></th>\n",
       "      <th>text</th>\n",
       "      <th>class</th>\n",
       "    </tr>\n",
       "  </thead>\n",
       "  <tbody>\n",
       "    <tr>\n",
       "      <th>74414</th>\n",
       "      <td>I Don't know?7? Months self harm free and the ...</td>\n",
       "      <td>suicide</td>\n",
       "    </tr>\n",
       "    <tr>\n",
       "      <th>149516</th>\n",
       "      <td>I HAVE TO START BECOMING RICH I HAVE TO START ...</td>\n",
       "      <td>non-suicide</td>\n",
       "    </tr>\n",
       "    <tr>\n",
       "      <th>12484</th>\n",
       "      <td>A poem (haiku) for u/Me-Game-Dev hi, hello hel...</td>\n",
       "      <td>non-suicide</td>\n",
       "    </tr>\n",
       "    <tr>\n",
       "      <th>14043</th>\n",
       "      <td>I've honestly got no idea what to do anymore.I...</td>\n",
       "      <td>suicide</td>\n",
       "    </tr>\n",
       "    <tr>\n",
       "      <th>30673</th>\n",
       "      <td>Do you ever just cry? Like you just think abou...</td>\n",
       "      <td>non-suicide</td>\n",
       "    </tr>\n",
       "  </tbody>\n",
       "</table>\n",
       "</div>"
      ],
      "text/plain": [
       "                                                     text        class\n",
       "74414   I Don't know?7? Months self harm free and the ...      suicide\n",
       "149516  I HAVE TO START BECOMING RICH I HAVE TO START ...  non-suicide\n",
       "12484   A poem (haiku) for u/Me-Game-Dev hi, hello hel...  non-suicide\n",
       "14043   I've honestly got no idea what to do anymore.I...      suicide\n",
       "30673   Do you ever just cry? Like you just think abou...  non-suicide"
      ]
     },
     "execution_count": 10,
     "metadata": {},
     "output_type": "execute_result"
    }
   ],
   "source": [
    "df.head()"
   ]
  },
  {
   "cell_type": "code",
   "execution_count": 11,
   "id": "d99cb58f",
   "metadata": {
    "execution": {
     "iopub.execute_input": "2023-04-25T10:48:29.482525Z",
     "iopub.status.busy": "2023-04-25T10:48:29.482236Z",
     "iopub.status.idle": "2023-04-25T10:48:29.492378Z",
     "shell.execute_reply": "2023-04-25T10:48:29.491390Z"
    },
    "papermill": {
     "duration": 0.025085,
     "end_time": "2023-04-25T10:48:29.494634",
     "exception": false,
     "start_time": "2023-04-25T10:48:29.469549",
     "status": "completed"
    },
    "tags": []
   },
   "outputs": [
    {
     "data": {
      "text/plain": [
       "text     0\n",
       "class    0\n",
       "dtype: int64"
      ]
     },
     "execution_count": 11,
     "metadata": {},
     "output_type": "execute_result"
    }
   ],
   "source": [
    "df.isnull().sum()"
   ]
  },
  {
   "cell_type": "code",
   "execution_count": 12,
   "id": "e91be340",
   "metadata": {
    "execution": {
     "iopub.execute_input": "2023-04-25T10:48:29.519486Z",
     "iopub.status.busy": "2023-04-25T10:48:29.519204Z",
     "iopub.status.idle": "2023-04-25T10:48:29.549465Z",
     "shell.execute_reply": "2023-04-25T10:48:29.548393Z"
    },
    "papermill": {
     "duration": 0.045158,
     "end_time": "2023-04-25T10:48:29.551649",
     "exception": false,
     "start_time": "2023-04-25T10:48:29.506491",
     "status": "completed"
    },
    "tags": []
   },
   "outputs": [
    {
     "data": {
      "text/plain": [
       "0"
      ]
     },
     "execution_count": 12,
     "metadata": {},
     "output_type": "execute_result"
    }
   ],
   "source": [
    "df.duplicated().sum()"
   ]
  },
  {
   "cell_type": "markdown",
   "id": "ac4c945e",
   "metadata": {
    "papermill": {
     "duration": 0.012065,
     "end_time": "2023-04-25T10:48:29.576028",
     "exception": false,
     "start_time": "2023-04-25T10:48:29.563963",
     "status": "completed"
    },
    "tags": []
   },
   "source": [
    "# Data Visualisation"
   ]
  },
  {
   "cell_type": "code",
   "execution_count": 13,
   "id": "516c56a6",
   "metadata": {
    "execution": {
     "iopub.execute_input": "2023-04-25T10:48:29.602550Z",
     "iopub.status.busy": "2023-04-25T10:48:29.601539Z",
     "iopub.status.idle": "2023-04-25T10:48:29.892481Z",
     "shell.execute_reply": "2023-04-25T10:48:29.891375Z"
    },
    "papermill": {
     "duration": 0.306712,
     "end_time": "2023-04-25T10:48:29.894892",
     "exception": false,
     "start_time": "2023-04-25T10:48:29.588180",
     "status": "completed"
    },
    "tags": []
   },
   "outputs": [],
   "source": [
    "# classCnt = df['class'].value_counts()\n",
    "# print(classCnt)\n",
    "\n",
    "# plt.figure(figsize=((20,5)))\n",
    "\n",
    "# plt.subplot(1,2,1)\n",
    "# sns.countplot(df,x='class')\n",
    "\n",
    "# plt.subplot(1,2,2)\n",
    "# plt.pie(classCnt,labels = classCnt.index,autopct='%.0f%%')\n",
    "\n",
    "# plt.show()"
   ]
  },
  {
   "cell_type": "markdown",
   "id": "840d712b",
   "metadata": {
    "papermill": {
     "duration": 0.012509,
     "end_time": "2023-04-25T10:48:29.921958",
     "exception": false,
     "start_time": "2023-04-25T10:48:29.909449",
     "status": "completed"
    },
    "tags": []
   },
   "source": [
    "# Text Preprocessing"
   ]
  },
  {
   "cell_type": "markdown",
   "id": "788f0d60",
   "metadata": {
    "papermill": {
     "duration": 0.012667,
     "end_time": "2023-04-25T10:48:29.947630",
     "exception": false,
     "start_time": "2023-04-25T10:48:29.934963",
     "status": "completed"
    },
    "tags": []
   },
   "source": [
    "## Lowering the Text\n",
    "- Changing the case involves converting all text to lowercase or uppercase so that all word strings follow a consistent format. \n",
    "- Lowercasing is the more frequent choice in NLP software."
   ]
  },
  {
   "cell_type": "code",
   "execution_count": 14,
   "id": "eec1b50a",
   "metadata": {
    "execution": {
     "iopub.execute_input": "2023-04-25T10:48:29.975199Z",
     "iopub.status.busy": "2023-04-25T10:48:29.974322Z",
     "iopub.status.idle": "2023-04-25T10:48:29.999239Z",
     "shell.execute_reply": "2023-04-25T10:48:29.998202Z"
    },
    "papermill": {
     "duration": 0.041011,
     "end_time": "2023-04-25T10:48:30.001486",
     "exception": false,
     "start_time": "2023-04-25T10:48:29.960475",
     "status": "completed"
    },
    "tags": []
   },
   "outputs": [],
   "source": [
    "df['text']= df['text'].str.lower()"
   ]
  },
  {
   "cell_type": "markdown",
   "id": "389a7380",
   "metadata": {
    "papermill": {
     "duration": 0.012475,
     "end_time": "2023-04-25T10:48:30.026957",
     "exception": false,
     "start_time": "2023-04-25T10:48:30.014482",
     "status": "completed"
    },
    "tags": []
   },
   "source": [
    "## Remove Punctuations\n",
    "- Text preprocessing involves various techniques to clean and transform raw text data into a more suitable format for analysis.\n",
    "- Removing punctuation is one of the most commonly used preprocessing techniques, as punctuation marks do not usually add much semantic value to the text and can interfere with downstream NLP tasks.\n",
    "-  String library of Python contains some pre-defined list of punctuations such as **‘!”#$%&'()*+,-./:;?@[\\]^_`{|}~’**"
   ]
  },
  {
   "cell_type": "code",
   "execution_count": 15,
   "id": "5d2b6a5b",
   "metadata": {
    "execution": {
     "iopub.execute_input": "2023-04-25T10:48:30.054552Z",
     "iopub.status.busy": "2023-04-25T10:48:30.053504Z",
     "iopub.status.idle": "2023-04-25T10:48:30.269761Z",
     "shell.execute_reply": "2023-04-25T10:48:30.268722Z"
    },
    "papermill": {
     "duration": 0.232556,
     "end_time": "2023-04-25T10:48:30.272373",
     "exception": false,
     "start_time": "2023-04-25T10:48:30.039817",
     "status": "completed"
    },
    "tags": []
   },
   "outputs": [],
   "source": [
    "df['text'] = df['text'].str.replace(r'[^\\w\\s]+', '',regex = True)"
   ]
  },
  {
   "cell_type": "markdown",
   "id": "42480f9f",
   "metadata": {
    "papermill": {
     "duration": 0.012559,
     "end_time": "2023-04-25T10:48:30.298181",
     "exception": false,
     "start_time": "2023-04-25T10:48:30.285622",
     "status": "completed"
    },
    "tags": []
   },
   "source": [
    "## Stop word removal\n",
    "\n",
    "- Stopwords are the most commonly occurring words in a language, such as \"the\", \"and\", \"a\", \"an\", \"in\", \"to\", etc. \n",
    "- These words have very little semantic value and are often used to connect meaningful words in a sentence. \n",
    "- In many natural language processing (NLP) tasks, stopwords can be removed without affecting the meaning of the text, and doing so can actually improve the performance of the NLP models."
   ]
  },
  {
   "cell_type": "code",
   "execution_count": 16,
   "id": "39fb7a55",
   "metadata": {
    "execution": {
     "iopub.execute_input": "2023-04-25T10:48:30.325406Z",
     "iopub.status.busy": "2023-04-25T10:48:30.324485Z",
     "iopub.status.idle": "2023-04-25T10:48:32.646899Z",
     "shell.execute_reply": "2023-04-25T10:48:32.645877Z"
    },
    "papermill": {
     "duration": 2.341948,
     "end_time": "2023-04-25T10:48:32.652711",
     "exception": false,
     "start_time": "2023-04-25T10:48:30.310763",
     "status": "completed"
    },
    "tags": []
   },
   "outputs": [],
   "source": [
    "from nltk.corpus import stopwords\n",
    "stop_words = stopwords.words('english')\n",
    "df['text'] = df['text'].apply(lambda x: ' '.join([word for word in x.split() if word not in (stop_words)]))"
   ]
  },
  {
   "cell_type": "markdown",
   "id": "64b204e9",
   "metadata": {
    "papermill": {
     "duration": 0.014144,
     "end_time": "2023-04-25T10:48:32.682273",
     "exception": false,
     "start_time": "2023-04-25T10:48:32.668129",
     "status": "completed"
    },
    "tags": []
   },
   "source": [
    "## Tokenization   \n",
    "- The tokenization stage involves converting a sentence into a stream of words, also called “tokens.”\n",
    "- Tokens are usually words, but they can also be phrases, symbols, or other meaningful units of text."
   ]
  },
  {
   "cell_type": "code",
   "execution_count": 17,
   "id": "24aa1aba",
   "metadata": {
    "execution": {
     "iopub.execute_input": "2023-04-25T10:48:32.708858Z",
     "iopub.status.busy": "2023-04-25T10:48:32.708523Z",
     "iopub.status.idle": "2023-04-25T10:48:47.826925Z",
     "shell.execute_reply": "2023-04-25T10:48:47.825900Z"
    },
    "papermill": {
     "duration": 15.13489,
     "end_time": "2023-04-25T10:48:47.829716",
     "exception": false,
     "start_time": "2023-04-25T10:48:32.694826",
     "status": "completed"
    },
    "tags": []
   },
   "outputs": [],
   "source": [
    "df['text'] = df['text'].apply(lambda x:nltk.word_tokenize(x))"
   ]
  },
  {
   "cell_type": "markdown",
   "id": "54f50523",
   "metadata": {
    "papermill": {
     "duration": 0.012639,
     "end_time": "2023-04-25T10:48:47.855373",
     "exception": false,
     "start_time": "2023-04-25T10:48:47.842734",
     "status": "completed"
    },
    "tags": []
   },
   "source": [
    "## Stemming\n",
    "- The term word stem is borrowed from linguistics and used to refer to the base or root form of a word.\n",
    "- Stemming is the process of converting all words to their base form, or stem. "
   ]
  },
  {
   "cell_type": "code",
   "execution_count": 18,
   "id": "fba26e79",
   "metadata": {
    "execution": {
     "iopub.execute_input": "2023-04-25T10:48:47.881715Z",
     "iopub.status.busy": "2023-04-25T10:48:47.881396Z",
     "iopub.status.idle": "2023-04-25T10:49:02.867078Z",
     "shell.execute_reply": "2023-04-25T10:49:02.865955Z"
    },
    "papermill": {
     "duration": 15.00184,
     "end_time": "2023-04-25T10:49:02.869753",
     "exception": false,
     "start_time": "2023-04-25T10:48:47.867913",
     "status": "completed"
    },
    "tags": []
   },
   "outputs": [],
   "source": [
    "ps = PorterStemmer()\n",
    "df['text'] = df['text'].apply(lambda x : [ps.stem(i) for i in x])"
   ]
  },
  {
   "cell_type": "code",
   "execution_count": 19,
   "id": "8320c3b7",
   "metadata": {
    "execution": {
     "iopub.execute_input": "2023-04-25T10:49:02.897451Z",
     "iopub.status.busy": "2023-04-25T10:49:02.897137Z",
     "iopub.status.idle": "2023-04-25T10:49:02.942048Z",
     "shell.execute_reply": "2023-04-25T10:49:02.940915Z"
    },
    "papermill": {
     "duration": 0.060937,
     "end_time": "2023-04-25T10:49:02.944224",
     "exception": false,
     "start_time": "2023-04-25T10:49:02.883287",
     "status": "completed"
    },
    "tags": []
   },
   "outputs": [],
   "source": [
    "df['text']=df['text'].apply(lambda x : ' '.join(x))"
   ]
  },
  {
   "cell_type": "code",
   "execution_count": 20,
   "id": "ec763d62",
   "metadata": {
    "execution": {
     "iopub.execute_input": "2023-04-25T10:49:02.972024Z",
     "iopub.status.busy": "2023-04-25T10:49:02.971671Z",
     "iopub.status.idle": "2023-04-25T10:49:02.981364Z",
     "shell.execute_reply": "2023-04-25T10:49:02.980399Z"
    },
    "papermill": {
     "duration": 0.026183,
     "end_time": "2023-04-25T10:49:02.983481",
     "exception": false,
     "start_time": "2023-04-25T10:49:02.957298",
     "status": "completed"
    },
    "tags": []
   },
   "outputs": [
    {
     "data": {
      "text/html": [
       "<div>\n",
       "<style scoped>\n",
       "    .dataframe tbody tr th:only-of-type {\n",
       "        vertical-align: middle;\n",
       "    }\n",
       "\n",
       "    .dataframe tbody tr th {\n",
       "        vertical-align: top;\n",
       "    }\n",
       "\n",
       "    .dataframe thead th {\n",
       "        text-align: right;\n",
       "    }\n",
       "</style>\n",
       "<table border=\"1\" class=\"dataframe\">\n",
       "  <thead>\n",
       "    <tr style=\"text-align: right;\">\n",
       "      <th></th>\n",
       "      <th>text</th>\n",
       "      <th>class</th>\n",
       "    </tr>\n",
       "  </thead>\n",
       "  <tbody>\n",
       "    <tr>\n",
       "      <th>74414</th>\n",
       "      <td>dont know7 month self harm free urg get strong...</td>\n",
       "      <td>suicide</td>\n",
       "    </tr>\n",
       "    <tr>\n",
       "      <th>149516</th>\n",
       "      <td>start becom rich start compani becom 16 afford...</td>\n",
       "      <td>non-suicide</td>\n",
       "    </tr>\n",
       "    <tr>\n",
       "      <th>12484</th>\n",
       "      <td>poem haiku umegamedev hi hello hello stop fuck...</td>\n",
       "      <td>non-suicide</td>\n",
       "    </tr>\n",
       "    <tr>\n",
       "      <th>14043</th>\n",
       "      <td>ive honestli got idea anymoreit feel everyon f...</td>\n",
       "      <td>suicide</td>\n",
       "    </tr>\n",
       "    <tr>\n",
       "      <th>30673</th>\n",
       "      <td>ever cri like think unfair life cri cant cri e...</td>\n",
       "      <td>non-suicide</td>\n",
       "    </tr>\n",
       "  </tbody>\n",
       "</table>\n",
       "</div>"
      ],
      "text/plain": [
       "                                                     text        class\n",
       "74414   dont know7 month self harm free urg get strong...      suicide\n",
       "149516  start becom rich start compani becom 16 afford...  non-suicide\n",
       "12484   poem haiku umegamedev hi hello hello stop fuck...  non-suicide\n",
       "14043   ive honestli got idea anymoreit feel everyon f...      suicide\n",
       "30673   ever cri like think unfair life cri cant cri e...  non-suicide"
      ]
     },
     "execution_count": 20,
     "metadata": {},
     "output_type": "execute_result"
    }
   ],
   "source": [
    "df.head()"
   ]
  },
  {
   "cell_type": "code",
   "execution_count": 21,
   "id": "ff5b1d25",
   "metadata": {
    "execution": {
     "iopub.execute_input": "2023-04-25T10:49:03.010706Z",
     "iopub.status.busy": "2023-04-25T10:49:03.009818Z",
     "iopub.status.idle": "2023-04-25T10:49:03.076337Z",
     "shell.execute_reply": "2023-04-25T10:49:03.075471Z"
    },
    "papermill": {
     "duration": 0.082291,
     "end_time": "2023-04-25T10:49:03.078533",
     "exception": false,
     "start_time": "2023-04-25T10:49:02.996242",
     "status": "completed"
    },
    "tags": []
   },
   "outputs": [],
   "source": [
    "# Saved the cleaned dataset.\n",
    "df.to_csv('cleaned_dataset.csv')"
   ]
  },
  {
   "cell_type": "code",
   "execution_count": 22,
   "id": "57944f1d",
   "metadata": {
    "execution": {
     "iopub.execute_input": "2023-04-25T10:49:03.105342Z",
     "iopub.status.busy": "2023-04-25T10:49:03.105072Z",
     "iopub.status.idle": "2023-04-25T10:49:03.160984Z",
     "shell.execute_reply": "2023-04-25T10:49:03.159849Z"
    },
    "papermill": {
     "duration": 0.072423,
     "end_time": "2023-04-25T10:49:03.163795",
     "exception": false,
     "start_time": "2023-04-25T10:49:03.091372",
     "status": "completed"
    },
    "tags": []
   },
   "outputs": [
    {
     "data": {
      "text/html": [
       "<div>\n",
       "<style scoped>\n",
       "    .dataframe tbody tr th:only-of-type {\n",
       "        vertical-align: middle;\n",
       "    }\n",
       "\n",
       "    .dataframe tbody tr th {\n",
       "        vertical-align: top;\n",
       "    }\n",
       "\n",
       "    .dataframe thead th {\n",
       "        text-align: right;\n",
       "    }\n",
       "</style>\n",
       "<table border=\"1\" class=\"dataframe\">\n",
       "  <thead>\n",
       "    <tr style=\"text-align: right;\">\n",
       "      <th></th>\n",
       "      <th>Unnamed: 0</th>\n",
       "      <th>text</th>\n",
       "      <th>class</th>\n",
       "    </tr>\n",
       "  </thead>\n",
       "  <tbody>\n",
       "    <tr>\n",
       "      <th>0</th>\n",
       "      <td>74414</td>\n",
       "      <td>dont know7 month self harm free urg get strong...</td>\n",
       "      <td>suicide</td>\n",
       "    </tr>\n",
       "    <tr>\n",
       "      <th>1</th>\n",
       "      <td>149516</td>\n",
       "      <td>start becom rich start compani becom 16 afford...</td>\n",
       "      <td>non-suicide</td>\n",
       "    </tr>\n",
       "    <tr>\n",
       "      <th>2</th>\n",
       "      <td>12484</td>\n",
       "      <td>poem haiku umegamedev hi hello hello stop fuck...</td>\n",
       "      <td>non-suicide</td>\n",
       "    </tr>\n",
       "    <tr>\n",
       "      <th>3</th>\n",
       "      <td>14043</td>\n",
       "      <td>ive honestli got idea anymoreit feel everyon f...</td>\n",
       "      <td>suicide</td>\n",
       "    </tr>\n",
       "    <tr>\n",
       "      <th>4</th>\n",
       "      <td>30673</td>\n",
       "      <td>ever cri like think unfair life cri cant cri e...</td>\n",
       "      <td>non-suicide</td>\n",
       "    </tr>\n",
       "  </tbody>\n",
       "</table>\n",
       "</div>"
      ],
      "text/plain": [
       "   Unnamed: 0                                               text        class\n",
       "0       74414  dont know7 month self harm free urg get strong...      suicide\n",
       "1      149516  start becom rich start compani becom 16 afford...  non-suicide\n",
       "2       12484  poem haiku umegamedev hi hello hello stop fuck...  non-suicide\n",
       "3       14043  ive honestli got idea anymoreit feel everyon f...      suicide\n",
       "4       30673  ever cri like think unfair life cri cant cri e...  non-suicide"
      ]
     },
     "execution_count": 22,
     "metadata": {},
     "output_type": "execute_result"
    }
   ],
   "source": [
    "dfnew = pd.read_csv('cleaned_dataset.csv')\n",
    "dfnew.head()"
   ]
  },
  {
   "cell_type": "code",
   "execution_count": 23,
   "id": "34058237",
   "metadata": {
    "execution": {
     "iopub.execute_input": "2023-04-25T10:49:03.191070Z",
     "iopub.status.busy": "2023-04-25T10:49:03.190764Z",
     "iopub.status.idle": "2023-04-25T10:49:03.203329Z",
     "shell.execute_reply": "2023-04-25T10:49:03.201867Z"
    },
    "papermill": {
     "duration": 0.028465,
     "end_time": "2023-04-25T10:49:03.205421",
     "exception": false,
     "start_time": "2023-04-25T10:49:03.176956",
     "status": "completed"
    },
    "tags": []
   },
   "outputs": [
    {
     "name": "stdout",
     "output_type": "stream",
     "text": [
      "<class 'pandas.core.frame.DataFrame'>\n",
      "RangeIndex: 10000 entries, 0 to 9999\n",
      "Data columns (total 3 columns):\n",
      " #   Column      Non-Null Count  Dtype \n",
      "---  ------      --------------  ----- \n",
      " 0   Unnamed: 0  10000 non-null  int64 \n",
      " 1   text        9999 non-null   object\n",
      " 2   class       10000 non-null  object\n",
      "dtypes: int64(1), object(2)\n",
      "memory usage: 234.5+ KB\n"
     ]
    }
   ],
   "source": [
    "dfnew.info()"
   ]
  },
  {
   "cell_type": "code",
   "execution_count": 24,
   "id": "74d7f8f7",
   "metadata": {
    "execution": {
     "iopub.execute_input": "2023-04-25T10:49:03.232852Z",
     "iopub.status.busy": "2023-04-25T10:49:03.232261Z",
     "iopub.status.idle": "2023-04-25T10:49:03.238319Z",
     "shell.execute_reply": "2023-04-25T10:49:03.237418Z"
    },
    "papermill": {
     "duration": 0.021873,
     "end_time": "2023-04-25T10:49:03.240401",
     "exception": false,
     "start_time": "2023-04-25T10:49:03.218528",
     "status": "completed"
    },
    "tags": []
   },
   "outputs": [],
   "source": [
    "ind = dfnew[dfnew['text'].isnull()].index"
   ]
  },
  {
   "cell_type": "code",
   "execution_count": 25,
   "id": "598b7f5e",
   "metadata": {
    "execution": {
     "iopub.execute_input": "2023-04-25T10:49:03.267553Z",
     "iopub.status.busy": "2023-04-25T10:49:03.266832Z",
     "iopub.status.idle": "2023-04-25T10:49:03.275827Z",
     "shell.execute_reply": "2023-04-25T10:49:03.274785Z"
    },
    "papermill": {
     "duration": 0.025185,
     "end_time": "2023-04-25T10:49:03.278297",
     "exception": false,
     "start_time": "2023-04-25T10:49:03.253112",
     "status": "completed"
    },
    "tags": []
   },
   "outputs": [
    {
     "data": {
      "text/html": [
       "<div>\n",
       "<style scoped>\n",
       "    .dataframe tbody tr th:only-of-type {\n",
       "        vertical-align: middle;\n",
       "    }\n",
       "\n",
       "    .dataframe tbody tr th {\n",
       "        vertical-align: top;\n",
       "    }\n",
       "\n",
       "    .dataframe thead th {\n",
       "        text-align: right;\n",
       "    }\n",
       "</style>\n",
       "<table border=\"1\" class=\"dataframe\">\n",
       "  <thead>\n",
       "    <tr style=\"text-align: right;\">\n",
       "      <th></th>\n",
       "      <th>text</th>\n",
       "      <th>class</th>\n",
       "    </tr>\n",
       "  </thead>\n",
       "  <tbody>\n",
       "    <tr>\n",
       "      <th>102482</th>\n",
       "      <td></td>\n",
       "      <td>suicide</td>\n",
       "    </tr>\n",
       "  </tbody>\n",
       "</table>\n",
       "</div>"
      ],
      "text/plain": [
       "       text    class\n",
       "102482       suicide"
      ]
     },
     "execution_count": 25,
     "metadata": {},
     "output_type": "execute_result"
    }
   ],
   "source": [
    "df.iloc[ind]"
   ]
  },
  {
   "cell_type": "markdown",
   "id": "a8003825",
   "metadata": {
    "papermill": {
     "duration": 0.012878,
     "end_time": "2023-04-25T10:49:03.304110",
     "exception": false,
     "start_time": "2023-04-25T10:49:03.291232",
     "status": "completed"
    },
    "tags": []
   },
   "source": [
    "- **'text'** column contains None values.\n",
    "- It may contain puctuations or emojies.\n",
    "- So I am going to drop that rows"
   ]
  },
  {
   "cell_type": "code",
   "execution_count": 26,
   "id": "1b904b1d",
   "metadata": {
    "execution": {
     "iopub.execute_input": "2023-04-25T10:49:03.331213Z",
     "iopub.status.busy": "2023-04-25T10:49:03.330940Z",
     "iopub.status.idle": "2023-04-25T10:49:03.338805Z",
     "shell.execute_reply": "2023-04-25T10:49:03.337869Z"
    },
    "papermill": {
     "duration": 0.02385,
     "end_time": "2023-04-25T10:49:03.340991",
     "exception": false,
     "start_time": "2023-04-25T10:49:03.317141",
     "status": "completed"
    },
    "tags": []
   },
   "outputs": [],
   "source": [
    "dfnew.dropna(inplace=True)"
   ]
  },
  {
   "cell_type": "markdown",
   "id": "39c3366a",
   "metadata": {
    "papermill": {
     "duration": 0.012888,
     "end_time": "2023-04-25T10:49:03.367175",
     "exception": false,
     "start_time": "2023-04-25T10:49:03.354287",
     "status": "completed"
    },
    "tags": []
   },
   "source": [
    "# Machine Learning - Model Selection"
   ]
  },
  {
   "cell_type": "code",
   "execution_count": 27,
   "id": "7bdcb7b1",
   "metadata": {
    "execution": {
     "iopub.execute_input": "2023-04-25T10:49:03.394898Z",
     "iopub.status.busy": "2023-04-25T10:49:03.394047Z",
     "iopub.status.idle": "2023-04-25T10:49:03.399234Z",
     "shell.execute_reply": "2023-04-25T10:49:03.398313Z"
    },
    "papermill": {
     "duration": 0.021096,
     "end_time": "2023-04-25T10:49:03.401334",
     "exception": false,
     "start_time": "2023-04-25T10:49:03.380238",
     "status": "completed"
    },
    "tags": []
   },
   "outputs": [],
   "source": [
    "x,y = dfnew['text'],dfnew['class']"
   ]
  },
  {
   "cell_type": "markdown",
   "id": "09948539",
   "metadata": {
    "papermill": {
     "duration": 0.012913,
     "end_time": "2023-04-25T10:49:03.427313",
     "exception": false,
     "start_time": "2023-04-25T10:49:03.414400",
     "status": "completed"
    },
    "tags": []
   },
   "source": [
    "## TF-IDF Vectorizer"
   ]
  },
  {
   "cell_type": "code",
   "execution_count": 28,
   "id": "d8fcdcdb",
   "metadata": {
    "execution": {
     "iopub.execute_input": "2023-04-25T10:49:03.454906Z",
     "iopub.status.busy": "2023-04-25T10:49:03.454097Z",
     "iopub.status.idle": "2023-04-25T10:49:04.056064Z",
     "shell.execute_reply": "2023-04-25T10:49:04.055067Z"
    },
    "papermill": {
     "duration": 0.618453,
     "end_time": "2023-04-25T10:49:04.058684",
     "exception": false,
     "start_time": "2023-04-25T10:49:03.440231",
     "status": "completed"
    },
    "tags": []
   },
   "outputs": [],
   "source": [
    "vectorizer = TfidfVectorizer(min_df=50,max_features=5000)\n",
    "x =  vectorizer.fit_transform(x).toarray()"
   ]
  },
  {
   "cell_type": "code",
   "execution_count": 29,
   "id": "6df9ce50",
   "metadata": {
    "execution": {
     "iopub.execute_input": "2023-04-25T10:49:04.087370Z",
     "iopub.status.busy": "2023-04-25T10:49:04.086787Z",
     "iopub.status.idle": "2023-04-25T10:49:04.100869Z",
     "shell.execute_reply": "2023-04-25T10:49:04.100128Z"
    },
    "papermill": {
     "duration": 0.030551,
     "end_time": "2023-04-25T10:49:04.102832",
     "exception": false,
     "start_time": "2023-04-25T10:49:04.072281",
     "status": "completed"
    },
    "tags": []
   },
   "outputs": [],
   "source": [
    "# Save the model\n",
    "with open('tfidf.pkl', 'wb') as f:\n",
    "    pickle.dump(vectorizer, f)    "
   ]
  },
  {
   "cell_type": "code",
   "execution_count": 30,
   "id": "202af890",
   "metadata": {
    "execution": {
     "iopub.execute_input": "2023-04-25T10:49:04.130866Z",
     "iopub.status.busy": "2023-04-25T10:49:04.130569Z",
     "iopub.status.idle": "2023-04-25T10:49:04.172779Z",
     "shell.execute_reply": "2023-04-25T10:49:04.171765Z"
    },
    "papermill": {
     "duration": 0.059343,
     "end_time": "2023-04-25T10:49:04.175461",
     "exception": false,
     "start_time": "2023-04-25T10:49:04.116118",
     "status": "completed"
    },
    "tags": []
   },
   "outputs": [],
   "source": [
    "X_train,X_test,y_train,y_test = train_test_split(x,y,test_size=0.30,random_state=5)"
   ]
  },
  {
   "cell_type": "code",
   "execution_count": 31,
   "id": "c2fcf86e",
   "metadata": {
    "execution": {
     "iopub.execute_input": "2023-04-25T10:49:04.203905Z",
     "iopub.status.busy": "2023-04-25T10:49:04.203058Z",
     "iopub.status.idle": "2023-04-25T10:49:04.209881Z",
     "shell.execute_reply": "2023-04-25T10:49:04.208836Z"
    },
    "papermill": {
     "duration": 0.02299,
     "end_time": "2023-04-25T10:49:04.211981",
     "exception": false,
     "start_time": "2023-04-25T10:49:04.188991",
     "status": "completed"
    },
    "tags": []
   },
   "outputs": [
    {
     "data": {
      "text/plain": [
       "((6999, 1320), (3000, 1320))"
      ]
     },
     "execution_count": 31,
     "metadata": {},
     "output_type": "execute_result"
    }
   ],
   "source": [
    "X_train.shape,X_test.shape"
   ]
  },
  {
   "cell_type": "markdown",
   "id": "3e09bc43",
   "metadata": {
    "papermill": {
     "duration": 0.012927,
     "end_time": "2023-04-25T10:49:04.238168",
     "exception": false,
     "start_time": "2023-04-25T10:49:04.225241",
     "status": "completed"
    },
    "tags": []
   },
   "source": [
    "## Naive Bayes (Voting Classifier)"
   ]
  },
  {
   "cell_type": "code",
   "execution_count": 32,
   "id": "efc158f4",
   "metadata": {
    "execution": {
     "iopub.execute_input": "2023-04-25T10:49:04.266053Z",
     "iopub.status.busy": "2023-04-25T10:49:04.265221Z",
     "iopub.status.idle": "2023-04-25T10:49:05.007439Z",
     "shell.execute_reply": "2023-04-25T10:49:05.005792Z"
    },
    "papermill": {
     "duration": 0.759202,
     "end_time": "2023-04-25T10:49:05.010382",
     "exception": false,
     "start_time": "2023-04-25T10:49:04.251180",
     "status": "completed"
    },
    "tags": []
   },
   "outputs": [
    {
     "name": "stdout",
     "output_type": "stream",
     "text": [
      "Training score: 0.899271324474925\n",
      "Testing score: 0.8753333333333333\n"
     ]
    }
   ],
   "source": [
    "nb = GaussianNB()\n",
    "nb2 = BernoulliNB()\n",
    "nb3 = MultinomialNB()\n",
    "VotingClassifiers = VotingClassifier(estimators=[('GaussianNB', nb),('BernoulliNB',nb2), ('MultinomialNB', nb3)], voting = 'soft')\n",
    "VotingClassifiers.fit(X_train, y_train)\n",
    "print('Training score:',VotingClassifiers.score(X_train, y_train))\n",
    "print('Testing score:',VotingClassifiers.score(X_test,y_test))"
   ]
  },
  {
   "cell_type": "code",
   "execution_count": 33,
   "id": "1650796f",
   "metadata": {
    "execution": {
     "iopub.execute_input": "2023-04-25T10:49:05.082942Z",
     "iopub.status.busy": "2023-04-25T10:49:05.082361Z",
     "iopub.status.idle": "2023-04-25T10:49:05.573414Z",
     "shell.execute_reply": "2023-04-25T10:49:05.572369Z"
    },
    "papermill": {
     "duration": 0.529698,
     "end_time": "2023-04-25T10:49:05.575542",
     "exception": false,
     "start_time": "2023-04-25T10:49:05.045844",
     "status": "completed"
    },
    "tags": []
   },
   "outputs": [
    {
     "name": "stdout",
     "output_type": "stream",
     "text": [
      "              precision    recall  f1-score   support\n",
      "\n",
      " non-suicide       0.88      0.88      0.88      1542\n",
      "     suicide       0.87      0.87      0.87      1458\n",
      "\n",
      "    accuracy                           0.88      3000\n",
      "   macro avg       0.88      0.88      0.88      3000\n",
      "weighted avg       0.88      0.88      0.88      3000\n",
      "\n"
     ]
    },
    {
     "data": {
      "image/png": "[encoded data removed]",
      "text/plain": [
       "<Figure size 640x480 with 2 Axes>"
      ]
     },
     "metadata": {},
     "output_type": "display_data"
    }
   ],
   "source": [
    "y_act=y_test\n",
    "y_pred=VotingClassifiers.predict(X_test)\n",
    "sns.heatmap(confusion_matrix(y_act,y_pred),annot=True,cmap='summer')\n",
    "print(classification_report(y_act,y_pred))"
   ]
  },
  {
   "cell_type": "code",
   "execution_count": 34,
   "id": "9e222424",
   "metadata": {},
   "outputs": [],
   "source": [
    "# Save the model\n",
    "with open('VotingClassifier.pkl', 'wb') as f:\n",
    "    pickle.dump(VotingClassifiers, f)\n"
   ]
  },
  {
   "cell_type": "code",
   "execution_count": 35,
   "id": "e2e076f9",
   "metadata": {},
   "outputs": [],
   "source": [
    "\n",
    "\n",
    "def sui2risk(word):\n",
    "    if word == 'suicide':\n",
    "        return 'risk'\n",
    "    elif word == 'non-suicide':\n",
    "        return 'not_risk'\n",
    "    else:\n",
    "        return word\n",
    "\n",
    "def finetune(sui):\n",
    "    return [sui2risk(s) for s in sui]\n"
   ]
  },
  {
   "cell_type": "code",
   "execution_count": 42,
   "id": "46ed4c16",
   "metadata": {},
   "outputs": [
    {
     "name": "stdout",
     "output_type": "stream",
     "text": [
      "User inputs:\n",
      "[\"Hi there. Let's go out!\", \"I'm feeling sad today.\", 'I want to kill myself.', 'The world would be a better place without me']\n",
      "Predictions:\n",
      "['not_risk', 'not_risk', 'risk', 'risk']\n"
     ]
    }
   ],
   "source": [
    "# use the saved model to make predictions\n",
    "with open('VotingClassifier.pkl', 'rb') as f:\n",
    "    model = pickle.load(f)\n",
    "\n",
    "# make a prediction on user input\n",
    "input1 = \"Hi there. Let's go out!\"\n",
    "input2 = \"I'm feeling sad today.\"\n",
    "input3 = \"I want to kill myself.\"\n",
    "input4 = \"The world would be a better place without me\"\n",
    "inputs = [input1, input2, input3, input4]\n",
    "vec_inputs = vectorizer.transform(inputs).toarray()\n",
    "predictions = model.predict(vec_inputs)\n",
    "print(\"User inputs:\")\n",
    "print(inputs)\n",
    "print(\"Predictions:\")\n",
    "print(finetune(predictions))"
   ]
  },
  {
   "cell_type": "code",
   "execution_count": 59,
   "id": "58f4af17",
   "metadata": {},
   "outputs": [
    {
     "name": "stdout",
     "output_type": "stream",
     "text": [
      "User inputs:\n",
      "['hi', \"Hi there. Let's go out!\", \"I'm feeling sad today.\", 'I want to kill myself.', 'The world would be a better place without me.']\n",
      "Predictions:\n",
      "['not_risk', 'not_risk', 'not_risk', 'risk', 'risk']\n"
     ]
    }
   ],
   "source": [
    "import json\n",
    "\n",
    "with open('msg.json','r') as file:\n",
    "    data=json.load(file)\n",
    "    \n",
    "texts=[]\n",
    "for text in data:\n",
    "    texts.append(text['text'])\n",
    "inputs = vectorizer.transform(texts).toarray()\n",
    "predictions = model.predict(inputs)\n",
    "print(\"User inputs:\")\n",
    "print(texts)\n",
    "print(\"Predictions:\")\n",
    "print(finetune(predictions))\n"
   ]
  }
 ],
 "metadata": {
  "kernelspec": {
   "display_name": "Python 3",
   "language": "python",
   "name": "python3"
  },
  "language_info": {
   "codemirror_mode": {
    "name": "ipython",
    "version": 3
   },
   "file_extension": ".py",
   "mimetype": "text/x-python",
   "name": "python",
   "nbconvert_exporter": "python",
   "pygments_lexer": "ipython3",
   "version": "3.12.2"
  },
  "papermill": {
   "default_parameters": {},
   "duration": 246.381085,
   "end_time": "2023-04-25T10:52:20.478231",
   "environment_variables": {},
   "exception": null,
   "input_path": "__notebook__.ipynb",
   "output_path": "__notebook__.ipynb",
   "parameters": {},
   "start_time": "2023-04-25T10:48:14.097146",
   "version": "2.4.0"
  }
 },
 "nbformat": 4,
 "nbformat_minor": 5
}
